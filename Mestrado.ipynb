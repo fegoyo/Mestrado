{
 "cells": [
  {
   "cell_type": "code",
   "execution_count": 133,
   "metadata": {},
   "outputs": [],
   "source": [
    "import xlrd\n",
    "import pandas as pd\n",
    "import numpy as np\n",
    "from scipy.stats import ttest_ind\n",
    "from scipy.stats import normaltest\n",
    "import seaborn as sns\n",
    "import matplotlib.pyplot as plt\n",
    "from sklearn.preprocessing import Normalizer"
   ]
  },
  {
   "cell_type": "code",
   "execution_count": 79,
   "metadata": {},
   "outputs": [],
   "source": [
    "dados= pd.read_excel('resultados teste avaliacao geral1.xlsx')"
   ]
  },
  {
   "cell_type": "markdown",
   "metadata": {},
   "source": [
    "# <center> Análise estatística <center/>\n"
   ]
  },
  {
   "cell_type": "markdown",
   "metadata": {},
   "source": [
    " <h3><body><center> Verificando qual a melhor estratégia para a tomada de decisão <h3/><body/><center/>"
   ]
  },
  {
   "cell_type": "code",
   "execution_count": 80,
   "metadata": {},
   "outputs": [
    {
     "data": {
      "text/plain": [
       "<matplotlib.axes._subplots.AxesSubplot at 0x21a706bff40>"
      ]
     },
     "execution_count": 80,
     "metadata": {},
     "output_type": "execute_result"
    },
    {
     "data": {
      "image/png": "[encoded data removed]",
      "text/plain": [
       "<Figure size 432x288 with 1 Axes>"
      ]
     },
     "metadata": {
      "needs_background": "light"
     },
     "output_type": "display_data"
    }
   ],
   "source": [
    "sns.distplot(dados)"
   ]
  },
  {
   "cell_type": "code",
   "execution_count": 190,
   "metadata": {},
   "outputs": [
    {
     "name": "stdout",
     "output_type": "stream",
     "text": [
      "<class 'pandas.core.frame.DataFrame'>\n",
      "RangeIndex: 14 entries, 0 to 13\n",
      "Data columns (total 8 columns):\n",
      " #   Column              Non-Null Count  Dtype  \n",
      "---  ------              --------------  -----  \n",
      " 0   Valor_fix_OPS       14 non-null     float64\n",
      " 1   Valor_temp_OPS      14 non-null     float64\n",
      " 2   Valor_fix_Leigos    14 non-null     float64\n",
      " 3   Valor_temp_Leigos   14 non-null     float64\n",
      " 4   Valor_fix_Médicos   14 non-null     float64\n",
      " 5   Valor_temp_Médicos  14 non-null     float64\n",
      " 6   Valor_fix_Pais      14 non-null     float64\n",
      " 7   Valor_temp_Pais     14 non-null     float64\n",
      "dtypes: float64(8)\n",
      "memory usage: 1.0 KB\n"
     ]
    }
   ],
   "source": [
    "dados.info()"
   ]
  },
  {
   "cell_type": "code",
   "execution_count": 194,
   "metadata": {},
   "outputs": [
    {
     "data": {
      "text/html": [
       "<div>\n",
       "<style scoped>\n",
       "    .dataframe tbody tr th:only-of-type {\n",
       "        vertical-align: middle;\n",
       "    }\n",
       "\n",
       "    .dataframe tbody tr th {\n",
       "        vertical-align: top;\n",
       "    }\n",
       "\n",
       "    .dataframe thead th {\n",
       "        text-align: right;\n",
       "    }\n",
       "</style>\n",
       "<table border=\"1\" class=\"dataframe\">\n",
       "  <thead>\n",
       "    <tr style=\"text-align: right;\">\n",
       "      <th></th>\n",
       "      <th>Valor_fix_OPS</th>\n",
       "      <th>Valor_temp_OPS</th>\n",
       "      <th>Valor_fix_Leigos</th>\n",
       "      <th>Valor_temp_Leigos</th>\n",
       "      <th>Valor_fix_Médicos</th>\n",
       "      <th>Valor_temp_Médicos</th>\n",
       "      <th>Valor_fix_Pais</th>\n",
       "      <th>Valor_temp_Pais</th>\n",
       "    </tr>\n",
       "  </thead>\n",
       "  <tbody>\n",
       "    <tr>\n",
       "      <th>count</th>\n",
       "      <td>14.000000</td>\n",
       "      <td>14.000000</td>\n",
       "      <td>14.000000</td>\n",
       "      <td>14.000000</td>\n",
       "      <td>14.000000</td>\n",
       "      <td>14.000000</td>\n",
       "      <td>14.000000</td>\n",
       "      <td>14.000000</td>\n",
       "    </tr>\n",
       "    <tr>\n",
       "      <th>mean</th>\n",
       "      <td>7.142857</td>\n",
       "      <td>7.141429</td>\n",
       "      <td>7.142143</td>\n",
       "      <td>7.143571</td>\n",
       "      <td>7.142143</td>\n",
       "      <td>7.143571</td>\n",
       "      <td>7.142143</td>\n",
       "      <td>7.143571</td>\n",
       "    </tr>\n",
       "    <tr>\n",
       "      <th>std</th>\n",
       "      <td>5.910441</td>\n",
       "      <td>7.621971</td>\n",
       "      <td>6.262156</td>\n",
       "      <td>8.198454</td>\n",
       "      <td>6.390009</td>\n",
       "      <td>7.826500</td>\n",
       "      <td>5.931210</td>\n",
       "      <td>8.365449</td>\n",
       "    </tr>\n",
       "    <tr>\n",
       "      <th>min</th>\n",
       "      <td>1.480000</td>\n",
       "      <td>0.820000</td>\n",
       "      <td>1.530000</td>\n",
       "      <td>0.310000</td>\n",
       "      <td>1.210000</td>\n",
       "      <td>0.630000</td>\n",
       "      <td>1.410000</td>\n",
       "      <td>1.090000</td>\n",
       "    </tr>\n",
       "    <tr>\n",
       "      <th>25%</th>\n",
       "      <td>2.850000</td>\n",
       "      <td>2.225000</td>\n",
       "      <td>3.020000</td>\n",
       "      <td>2.362500</td>\n",
       "      <td>2.772500</td>\n",
       "      <td>2.010000</td>\n",
       "      <td>2.875000</td>\n",
       "      <td>1.970000</td>\n",
       "    </tr>\n",
       "    <tr>\n",
       "      <th>50%</th>\n",
       "      <td>5.270000</td>\n",
       "      <td>4.630000</td>\n",
       "      <td>4.875000</td>\n",
       "      <td>5.625000</td>\n",
       "      <td>5.195000</td>\n",
       "      <td>4.705000</td>\n",
       "      <td>5.300000</td>\n",
       "      <td>4.115000</td>\n",
       "    </tr>\n",
       "    <tr>\n",
       "      <th>75%</th>\n",
       "      <td>9.715000</td>\n",
       "      <td>9.362500</td>\n",
       "      <td>9.057500</td>\n",
       "      <td>8.870000</td>\n",
       "      <td>8.290000</td>\n",
       "      <td>7.607500</td>\n",
       "      <td>9.540000</td>\n",
       "      <td>8.355000</td>\n",
       "    </tr>\n",
       "    <tr>\n",
       "      <th>max</th>\n",
       "      <td>22.470000</td>\n",
       "      <td>29.520000</td>\n",
       "      <td>24.210000</td>\n",
       "      <td>32.890000</td>\n",
       "      <td>22.460000</td>\n",
       "      <td>28.910000</td>\n",
       "      <td>21.910000</td>\n",
       "      <td>32.180000</td>\n",
       "    </tr>\n",
       "  </tbody>\n",
       "</table>\n",
       "</div>"
      ],
      "text/plain": [
       "       Valor_fix_OPS  Valor_temp_OPS  Valor_fix_Leigos  Valor_temp_Leigos  \\\n",
       "count      14.000000       14.000000         14.000000          14.000000   \n",
       "mean        7.142857        7.141429          7.142143           7.143571   \n",
       "std         5.910441        7.621971          6.262156           8.198454   \n",
       "min         1.480000        0.820000          1.530000           0.310000   \n",
       "25%         2.850000        2.225000          3.020000           2.362500   \n",
       "50%         5.270000        4.630000          4.875000           5.625000   \n",
       "75%         9.715000        9.362500          9.057500           8.870000   \n",
       "max        22.470000       29.520000         24.210000          32.890000   \n",
       "\n",
       "       Valor_fix_Médicos  Valor_temp_Médicos  Valor_fix_Pais  Valor_temp_Pais  \n",
       "count          14.000000           14.000000       14.000000        14.000000  \n",
       "mean            7.142143            7.143571        7.142143         7.143571  \n",
       "std             6.390009            7.826500        5.931210         8.365449  \n",
       "min             1.210000            0.630000        1.410000         1.090000  \n",
       "25%             2.772500            2.010000        2.875000         1.970000  \n",
       "50%             5.195000            4.705000        5.300000         4.115000  \n",
       "75%             8.290000            7.607500        9.540000         8.355000  \n",
       "max            22.460000           28.910000       21.910000        32.180000  "
      ]
     },
     "execution_count": 194,
     "metadata": {},
     "output_type": "execute_result"
    }
   ],
   "source": [
    "dados.describe()"
   ]
  },
  {
   "cell_type": "markdown",
   "metadata": {},
   "source": [
    " <h3><center> Logo, sabemos que não é uma distribução normal, pois N é menor que 30 <h3><center>"
   ]
  },
  {
   "cell_type": "markdown",
   "metadata": {},
   "source": [
    "<h2><center>Cálculo simples relacionando as variáveis, para identificar o pvalor e o teste t. Considerando as variáveis INDEPENDENTES<h2><center>"
   ]
  },
  {
   "cell_type": "code",
   "execution_count": 167,
   "metadata": {},
   "outputs": [
    {
     "data": {
      "text/plain": [
       "Ttest_indResult(statistic=0.00031037483701502384, pvalue=0.9997547337639392)"
      ]
     },
     "execution_count": 167,
     "metadata": {},
     "output_type": "execute_result"
    }
   ],
   "source": [
    "ttest_ind(dados['Valor_fix_OPS'],dados['Valor_fix_Leigos'], equal_var=False)"
   ]
  },
  {
   "cell_type": "code",
   "execution_count": 168,
   "metadata": {},
   "outputs": [
    {
     "data": {
      "text/plain": [
       "Ttest_indResult(statistic=0.00030704366577792244, pvalue=0.999757372501024)"
      ]
     },
     "execution_count": 168,
     "metadata": {},
     "output_type": "execute_result"
    }
   ],
   "source": [
    "ttest_ind(dados['Valor_fix_OPS'],dados['Valor_fix_Médicos'], equal_var=False)"
   ]
  },
  {
   "cell_type": "code",
   "execution_count": 169,
   "metadata": {},
   "outputs": [
    {
     "data": {
      "text/plain": [
       "Ttest_indResult(statistic=0.00031918175618742873, pvalue=0.9997477662586883)"
      ]
     },
     "execution_count": 169,
     "metadata": {},
     "output_type": "execute_result"
    }
   ],
   "source": [
    "ttest_ind(dados['Valor_fix_OPS'],dados['Valor_fix_Pais'], equal_var=False)"
   ]
  },
  {
   "cell_type": "code",
   "execution_count": 170,
   "metadata": {},
   "outputs": [
    {
     "data": {
      "text/plain": [
       "Ttest_indResult(statistic=3.85297075363123e-16, pvalue=0.9999999999999997)"
      ]
     },
     "execution_count": 170,
     "metadata": {},
     "output_type": "execute_result"
    }
   ],
   "source": [
    "ttest_ind(dados['Valor_fix_Pais'],dados['Valor_fix_Leigos'], equal_var=False)"
   ]
  },
  {
   "cell_type": "code",
   "execution_count": 171,
   "metadata": {},
   "outputs": [
    {
     "data": {
      "text/plain": [
       "Ttest_indResult(statistic=7.62350471122124e-16, pvalue=0.9999999999999994)"
      ]
     },
     "execution_count": 171,
     "metadata": {},
     "output_type": "execute_result"
    }
   ],
   "source": [
    "ttest_ind(dados['Valor_fix_Pais'],dados['Valor_fix_Médicos'], equal_var=False)"
   ]
  },
  {
   "cell_type": "code",
   "execution_count": 172,
   "metadata": {},
   "outputs": [
    {
     "data": {
      "text/plain": [
       "Ttest_indResult(statistic=3.7144301044398746e-16, pvalue=0.9999999999999997)"
      ]
     },
     "execution_count": 172,
     "metadata": {},
     "output_type": "execute_result"
    }
   ],
   "source": [
    "ttest_ind(dados['Valor_fix_Leigos'],dados['Valor_fix_Médicos'], equal_var=False)"
   ]
  },
  {
   "cell_type": "code",
   "execution_count": 173,
   "metadata": {},
   "outputs": [
    {
     "data": {
      "text/plain": [
       "Ttest_indResult(statistic=0.0, pvalue=1.0)"
      ]
     },
     "execution_count": 173,
     "metadata": {},
     "output_type": "execute_result"
    }
   ],
   "source": [
    "ttest_ind(dados['Valor_temp_Pais'],dados['Valor_temp_Médicos'], equal_var=False)"
   ]
  },
  {
   "cell_type": "code",
   "execution_count": 174,
   "metadata": {},
   "outputs": [
    {
     "data": {
      "text/plain": [
       "Ttest_indResult(statistic=-2.8372297367773794e-16, pvalue=0.9999999999999998)"
      ]
     },
     "execution_count": 174,
     "metadata": {},
     "output_type": "execute_result"
    }
   ],
   "source": [
    "ttest_ind(dados['Valor_temp_Pais'],dados['Valor_temp_Leigos'], equal_var=False)"
   ]
  },
  {
   "cell_type": "code",
   "execution_count": 175,
   "metadata": {},
   "outputs": [
    {
     "data": {
      "text/plain": [
       "Ttest_indResult(statistic=0.0007084753681771538, pvalue=0.9994401728488558)"
      ]
     },
     "execution_count": 175,
     "metadata": {},
     "output_type": "execute_result"
    }
   ],
   "source": [
    "ttest_ind(dados['Valor_temp_Pais'],dados['Valor_temp_OPS'], equal_var=False)"
   ]
  },
  {
   "cell_type": "code",
   "execution_count": 176,
   "metadata": {},
   "outputs": [
    {
     "data": {
      "text/plain": [
       "Ttest_indResult(statistic=0.0007339199131170143, pvalue=0.9994200228453934)"
      ]
     },
     "execution_count": 176,
     "metadata": {},
     "output_type": "execute_result"
    }
   ],
   "source": [
    "ttest_ind(dados['Valor_temp_Médicos'],dados['Valor_temp_OPS'], equal_var=False)"
   ]
  },
  {
   "cell_type": "code",
   "execution_count": 177,
   "metadata": {},
   "outputs": [
    {
     "data": {
      "text/plain": [
       "Ttest_indResult(statistic=-2.932010352084958e-16, pvalue=0.9999999999999998)"
      ]
     },
     "execution_count": 177,
     "metadata": {},
     "output_type": "execute_result"
    }
   ],
   "source": [
    "ttest_ind(dados['Valor_temp_Médicos'],dados['Valor_temp_Leigos'], equal_var=False)"
   ]
  },
  {
   "cell_type": "code",
   "execution_count": 178,
   "metadata": {},
   "outputs": [
    {
     "data": {
      "text/plain": [
       "Ttest_indResult(statistic=-0.0007162521837819661, pvalue=0.9994340096883417)"
      ]
     },
     "execution_count": 178,
     "metadata": {},
     "output_type": "execute_result"
    }
   ],
   "source": [
    "ttest_ind(dados['Valor_temp_OPS'],dados['Valor_temp_Leigos'], equal_var=False)"
   ]
  },
  {
   "cell_type": "code",
   "execution_count": 180,
   "metadata": {},
   "outputs": [
    {
     "data": {
      "text/html": [
       "<div>\n",
       "<style scoped>\n",
       "    .dataframe tbody tr th:only-of-type {\n",
       "        vertical-align: middle;\n",
       "    }\n",
       "\n",
       "    .dataframe tbody tr th {\n",
       "        vertical-align: top;\n",
       "    }\n",
       "\n",
       "    .dataframe thead th {\n",
       "        text-align: right;\n",
       "    }\n",
       "</style>\n",
       "<table border=\"1\" class=\"dataframe\">\n",
       "  <thead>\n",
       "    <tr style=\"text-align: right;\">\n",
       "      <th></th>\n",
       "      <th>Valor_fix_OPS</th>\n",
       "      <th>Valor_temp_OPS</th>\n",
       "      <th>Valor_fix_Leigos</th>\n",
       "      <th>Valor_temp_Leigos</th>\n",
       "      <th>Valor_fix_Médicos</th>\n",
       "      <th>Valor_temp_Médicos</th>\n",
       "      <th>Valor_fix_Pais</th>\n",
       "      <th>Valor_temp_Pais</th>\n",
       "    </tr>\n",
       "  </thead>\n",
       "  <tbody>\n",
       "    <tr>\n",
       "      <th>Valor_fix_OPS</th>\n",
       "      <td>1.000000</td>\n",
       "      <td>0.968646</td>\n",
       "      <td>0.992871</td>\n",
       "      <td>0.917004</td>\n",
       "      <td>0.965840</td>\n",
       "      <td>0.963125</td>\n",
       "      <td>0.993172</td>\n",
       "      <td>0.931543</td>\n",
       "    </tr>\n",
       "    <tr>\n",
       "      <th>Valor_temp_OPS</th>\n",
       "      <td>0.968646</td>\n",
       "      <td>1.000000</td>\n",
       "      <td>0.985295</td>\n",
       "      <td>0.961126</td>\n",
       "      <td>0.939999</td>\n",
       "      <td>0.977092</td>\n",
       "      <td>0.966604</td>\n",
       "      <td>0.966470</td>\n",
       "    </tr>\n",
       "    <tr>\n",
       "      <th>Valor_fix_Leigos</th>\n",
       "      <td>0.992871</td>\n",
       "      <td>0.985295</td>\n",
       "      <td>1.000000</td>\n",
       "      <td>0.939423</td>\n",
       "      <td>0.969078</td>\n",
       "      <td>0.979737</td>\n",
       "      <td>0.993764</td>\n",
       "      <td>0.943534</td>\n",
       "    </tr>\n",
       "    <tr>\n",
       "      <th>Valor_temp_Leigos</th>\n",
       "      <td>0.917004</td>\n",
       "      <td>0.961126</td>\n",
       "      <td>0.939423</td>\n",
       "      <td>1.000000</td>\n",
       "      <td>0.852280</td>\n",
       "      <td>0.914608</td>\n",
       "      <td>0.908181</td>\n",
       "      <td>0.962100</td>\n",
       "    </tr>\n",
       "    <tr>\n",
       "      <th>Valor_fix_Médicos</th>\n",
       "      <td>0.965840</td>\n",
       "      <td>0.939999</td>\n",
       "      <td>0.969078</td>\n",
       "      <td>0.852280</td>\n",
       "      <td>1.000000</td>\n",
       "      <td>0.980989</td>\n",
       "      <td>0.977965</td>\n",
       "      <td>0.859842</td>\n",
       "    </tr>\n",
       "    <tr>\n",
       "      <th>Valor_temp_Médicos</th>\n",
       "      <td>0.963125</td>\n",
       "      <td>0.977092</td>\n",
       "      <td>0.979737</td>\n",
       "      <td>0.914608</td>\n",
       "      <td>0.980989</td>\n",
       "      <td>1.000000</td>\n",
       "      <td>0.970151</td>\n",
       "      <td>0.918768</td>\n",
       "    </tr>\n",
       "    <tr>\n",
       "      <th>Valor_fix_Pais</th>\n",
       "      <td>0.993172</td>\n",
       "      <td>0.966604</td>\n",
       "      <td>0.993764</td>\n",
       "      <td>0.908181</td>\n",
       "      <td>0.977965</td>\n",
       "      <td>0.970151</td>\n",
       "      <td>1.000000</td>\n",
       "      <td>0.916485</td>\n",
       "    </tr>\n",
       "    <tr>\n",
       "      <th>Valor_temp_Pais</th>\n",
       "      <td>0.931543</td>\n",
       "      <td>0.966470</td>\n",
       "      <td>0.943534</td>\n",
       "      <td>0.962100</td>\n",
       "      <td>0.859842</td>\n",
       "      <td>0.918768</td>\n",
       "      <td>0.916485</td>\n",
       "      <td>1.000000</td>\n",
       "    </tr>\n",
       "  </tbody>\n",
       "</table>\n",
       "</div>"
      ],
      "text/plain": [
       "                    Valor_fix_OPS  Valor_temp_OPS  Valor_fix_Leigos  \\\n",
       "Valor_fix_OPS            1.000000        0.968646          0.992871   \n",
       "Valor_temp_OPS           0.968646        1.000000          0.985295   \n",
       "Valor_fix_Leigos         0.992871        0.985295          1.000000   \n",
       "Valor_temp_Leigos        0.917004        0.961126          0.939423   \n",
       "Valor_fix_Médicos        0.965840        0.939999          0.969078   \n",
       "Valor_temp_Médicos       0.963125        0.977092          0.979737   \n",
       "Valor_fix_Pais           0.993172        0.966604          0.993764   \n",
       "Valor_temp_Pais          0.931543        0.966470          0.943534   \n",
       "\n",
       "                    Valor_temp_Leigos  Valor_fix_Médicos  Valor_temp_Médicos  \\\n",
       "Valor_fix_OPS                0.917004           0.965840            0.963125   \n",
       "Valor_temp_OPS               0.961126           0.939999            0.977092   \n",
       "Valor_fix_Leigos             0.939423           0.969078            0.979737   \n",
       "Valor_temp_Leigos            1.000000           0.852280            0.914608   \n",
       "Valor_fix_Médicos            0.852280           1.000000            0.980989   \n",
       "Valor_temp_Médicos           0.914608           0.980989            1.000000   \n",
       "Valor_fix_Pais               0.908181           0.977965            0.970151   \n",
       "Valor_temp_Pais              0.962100           0.859842            0.918768   \n",
       "\n",
       "                    Valor_fix_Pais  Valor_temp_Pais  \n",
       "Valor_fix_OPS             0.993172         0.931543  \n",
       "Valor_temp_OPS            0.966604         0.966470  \n",
       "Valor_fix_Leigos          0.993764         0.943534  \n",
       "Valor_temp_Leigos         0.908181         0.962100  \n",
       "Valor_fix_Médicos         0.977965         0.859842  \n",
       "Valor_temp_Médicos        0.970151         0.918768  \n",
       "Valor_fix_Pais            1.000000         0.916485  \n",
       "Valor_temp_Pais           0.916485         1.000000  "
      ]
     },
     "execution_count": 180,
     "metadata": {},
     "output_type": "execute_result"
    }
   ],
   "source": [
    "dados.corr()"
   ]
  },
  {
   "cell_type": "code",
   "execution_count": 181,
   "metadata": {},
   "outputs": [],
   "source": [
    "correlacoes=dados.corr()"
   ]
  },
  {
   "cell_type": "code",
   "execution_count": 182,
   "metadata": {},
   "outputs": [
    {
     "data": {
      "text/plain": [
       "<matplotlib.axes._subplots.AxesSubplot at 0x21a6c495dc0>"
      ]
     },
     "execution_count": 182,
     "metadata": {},
     "output_type": "execute_result"
    },
    {
     "data": {
      "image/png": "[encoded data removed]",
      "text/plain": [
       "<Figure size 1152x432 with 2 Axes>"
      ]
     },
     "metadata": {
      "needs_background": "light"
     },
     "output_type": "display_data"
    }
   ],
   "source": [
    "plt.figure(figsize=(16, 6))\n",
    "sns.heatmap(data=correlacoes, annot=True)"
   ]
  },
  {
   "cell_type": "markdown",
   "metadata": {},
   "source": [
    "<h2><center>Cálculo simples relacionando as variáveis, para identificar o pvalor e o teste t. Considerando as variáveis DEPENDENTES<h2><center>"
   ]
  },
  {
   "cell_type": "code",
   "execution_count": 197,
   "metadata": {},
   "outputs": [
    {
     "data": {
      "text/plain": [
       "Ttest_relResult(statistic=0.003311346254036439, pvalue=0.9974082078844142)"
      ]
     },
     "execution_count": 197,
     "metadata": {},
     "output_type": "execute_result"
    }
   ],
   "source": [
    "from scipy.stats import ttest_rel\n",
    "\n",
    "ttest_rel(dados['Valor_fix_OPS'],dados['Valor_fix_Leigos'])"
   ]
  },
  {
   "cell_type": "code",
   "execution_count": 198,
   "metadata": {},
   "outputs": [
    {
     "data": {
      "text/plain": [
       "Ttest_relResult(statistic=0.0015942619571155026, pvalue=0.9987521686043311)"
      ]
     },
     "execution_count": 198,
     "metadata": {},
     "output_type": "execute_result"
    }
   ],
   "source": [
    "ttest_rel(dados['Valor_fix_OPS'],dados['Valor_fix_Médicos'])"
   ]
  },
  {
   "cell_type": "code",
   "execution_count": 200,
   "metadata": {},
   "outputs": [
    {
     "data": {
      "text/plain": [
       "Ttest_relResult(statistic=0.003860835627469981, pvalue=0.9969781244566531)"
      ]
     },
     "execution_count": 200,
     "metadata": {},
     "output_type": "execute_result"
    }
   ],
   "source": [
    "ttest_rel(dados['Valor_fix_OPS'],dados['Valor_fix_Pais'])"
   ]
  },
  {
   "cell_type": "code",
   "execution_count": 202,
   "metadata": {},
   "outputs": [
    {
     "data": {
      "text/plain": [
       "Ttest_relResult(statistic=-1.1761903905439437e-15, pvalue=0.9999999999999991)"
      ]
     },
     "execution_count": 202,
     "metadata": {},
     "output_type": "execute_result"
    }
   ],
   "source": [
    "ttest_rel(dados['Valor_fix_Pais'],dados['Valor_fix_Leigos'])"
   ]
  },
  {
   "cell_type": "code",
   "execution_count": null,
   "metadata": {},
   "outputs": [],
   "source": []
  }
 ],
 "metadata": {
  "kernelspec": {
   "display_name": "Python 3",
   "language": "python",
   "name": "python3"
  },
  "language_info": {
   "codemirror_mode": {
    "name": "ipython",
    "version": 3
   },
   "file_extension": ".py",
   "mimetype": "text/x-python",
   "name": "python",
   "nbconvert_exporter": "python",
   "pygments_lexer": "ipython3",
   "version": "3.8.3"
  }
 },
 "nbformat": 4,
 "nbformat_minor": 4
}
